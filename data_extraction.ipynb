{
 "metadata": {
  "language_info": {
   "codemirror_mode": {
    "name": "ipython",
    "version": 3
   },
   "file_extension": ".py",
   "mimetype": "text/x-python",
   "name": "python",
   "nbconvert_exporter": "python",
   "pygments_lexer": "ipython3",
   "version": "3.8.5-final"
  },
  "orig_nbformat": 2,
  "kernelspec": {
   "name": "python38564bit4f868101b15e4c3ca09c48c3a0c54f4d",
   "display_name": "Python 3.8.5 64-bit",
   "language": "python"
  }
 },
 "nbformat": 4,
 "nbformat_minor": 2,
 "cells": [
  {
   "cell_type": "code",
   "execution_count": 1,
   "metadata": {},
   "outputs": [
    {
     "output_type": "stream",
     "name": "stdout",
     "text": [
      "Hello World\n"
     ]
    }
   ],
   "source": [
    "print(\"Hello World\")"
   ]
  },
  {
   "source": [
    "import pandas as pd"
   ],
   "cell_type": "code",
   "metadata": {},
   "execution_count": 2,
   "outputs": [
    {
     "output_type": "error",
     "ename": "ModuleNotFoundError",
     "evalue": "No module named 'pandas'",
     "traceback": [
      "\u001b[0;31m---------------------------------------------------------------------------\u001b[0m",
      "\u001b[0;31mModuleNotFoundError\u001b[0m                       Traceback (most recent call last)",
      "\u001b[0;32m<ipython-input-2-7dd3504c366f>\u001b[0m in \u001b[0;36m<module>\u001b[0;34m\u001b[0m\n\u001b[0;32m----> 1\u001b[0;31m \u001b[0;32mimport\u001b[0m \u001b[0mpandas\u001b[0m \u001b[0;32mas\u001b[0m \u001b[0mpd\u001b[0m\u001b[0;34m\u001b[0m\u001b[0;34m\u001b[0m\u001b[0m\n\u001b[0m",
      "\u001b[0;31mModuleNotFoundError\u001b[0m: No module named 'pandas'"
     ]
    }
   ]
  },
  {
   "cell_type": "code",
   "execution_count": 1,
   "metadata": {},
   "outputs": [],
   "source": [
    "import yfinance as yf"
   ]
  },
  {
   "cell_type": "code",
   "execution_count": 8,
   "metadata": {},
   "outputs": [
    {
     "output_type": "stream",
     "name": "stdout",
     "text": [
      "[*********************100%***********************]  1 of 1 completed\n"
     ]
    }
   ],
   "source": [
    "Apple = yf.download('TSLA',start=\"2019-01-01\",end=\"2019-12-31\")"
   ]
  },
  {
   "cell_type": "code",
   "execution_count": 9,
   "metadata": {},
   "outputs": [
    {
     "output_type": "execute_result",
     "data": {
      "text/plain": [
       "                 Open       High        Low      Close  Adj Close    Volume\n",
       "Date                                                                       \n",
       "2018-12-31  67.557999  67.842003  65.052002  66.559998  66.559998  31511500\n",
       "2019-01-02  61.220001  63.026001  59.759998  62.023998  62.023998  58293000\n",
       "2019-01-03  61.400002  61.880001  59.476002  60.071999  60.071999  34826000\n",
       "2019-01-04  61.200001  63.599998  60.546001  63.537998  63.537998  36970500\n",
       "2019-01-07  64.344002  67.348000  63.549999  66.991997  66.991997  37756000"
      ],
      "text/html": "<div>\n<style scoped>\n    .dataframe tbody tr th:only-of-type {\n        vertical-align: middle;\n    }\n\n    .dataframe tbody tr th {\n        vertical-align: top;\n    }\n\n    .dataframe thead th {\n        text-align: right;\n    }\n</style>\n<table border=\"1\" class=\"dataframe\">\n  <thead>\n    <tr style=\"text-align: right;\">\n      <th></th>\n      <th>Open</th>\n      <th>High</th>\n      <th>Low</th>\n      <th>Close</th>\n      <th>Adj Close</th>\n      <th>Volume</th>\n    </tr>\n    <tr>\n      <th>Date</th>\n      <th></th>\n      <th></th>\n      <th></th>\n      <th></th>\n      <th></th>\n      <th></th>\n    </tr>\n  </thead>\n  <tbody>\n    <tr>\n      <th>2018-12-31</th>\n      <td>67.557999</td>\n      <td>67.842003</td>\n      <td>65.052002</td>\n      <td>66.559998</td>\n      <td>66.559998</td>\n      <td>31511500</td>\n    </tr>\n    <tr>\n      <th>2019-01-02</th>\n      <td>61.220001</td>\n      <td>63.026001</td>\n      <td>59.759998</td>\n      <td>62.023998</td>\n      <td>62.023998</td>\n      <td>58293000</td>\n    </tr>\n    <tr>\n      <th>2019-01-03</th>\n      <td>61.400002</td>\n      <td>61.880001</td>\n      <td>59.476002</td>\n      <td>60.071999</td>\n      <td>60.071999</td>\n      <td>34826000</td>\n    </tr>\n    <tr>\n      <th>2019-01-04</th>\n      <td>61.200001</td>\n      <td>63.599998</td>\n      <td>60.546001</td>\n      <td>63.537998</td>\n      <td>63.537998</td>\n      <td>36970500</td>\n    </tr>\n    <tr>\n      <th>2019-01-07</th>\n      <td>64.344002</td>\n      <td>67.348000</td>\n      <td>63.549999</td>\n      <td>66.991997</td>\n      <td>66.991997</td>\n      <td>37756000</td>\n    </tr>\n  </tbody>\n</table>\n</div>"
     },
     "metadata": {},
     "execution_count": 9
    }
   ],
   "source": [
    "Apple.head()"
   ]
  },
  {
   "cell_type": "code",
   "execution_count": 10,
   "metadata": {},
   "outputs": [
    {
     "output_type": "stream",
     "name": "stdout",
     "text": [
      "[*********************100%***********************]  1 of 1 completed\n"
     ]
    }
   ],
   "source": [
    "Apple_df = yf.download('TSLA')"
   ]
  },
  {
   "cell_type": "code",
   "execution_count": 11,
   "metadata": {},
   "outputs": [
    {
     "output_type": "stream",
     "name": "stdout",
     "text": [
      "<class 'pandas.core.frame.DataFrame'>\nDatetimeIndex: 2648 entries, 2010-06-29 to 2021-01-04\nData columns (total 6 columns):\n #   Column     Non-Null Count  Dtype  \n---  ------     --------------  -----  \n 0   Open       2648 non-null   float64\n 1   High       2648 non-null   float64\n 2   Low        2648 non-null   float64\n 3   Close      2648 non-null   float64\n 4   Adj Close  2648 non-null   float64\n 5   Volume     2648 non-null   int64  \ndtypes: float64(5), int64(1)\nmemory usage: 144.8 KB\n"
     ]
    }
   ],
   "source": [
    "Apple_df.info()"
   ]
  },
  {
   "cell_type": "code",
   "execution_count": null,
   "metadata": {},
   "outputs": [],
   "source": []
  }
 ]
}