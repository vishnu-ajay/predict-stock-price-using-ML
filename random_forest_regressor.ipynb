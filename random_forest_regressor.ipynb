{
 "metadata": {
  "language_info": {
   "codemirror_mode": {
    "name": "ipython",
    "version": 3
   },
   "file_extension": ".py",
   "mimetype": "text/x-python",
   "name": "python",
   "nbconvert_exporter": "python",
   "pygments_lexer": "ipython3",
   "version": "3.7.6-final"
  },
  "orig_nbformat": 2,
  "kernelspec": {
   "name": "python3",
   "display_name": "Python 3",
   "language": "python"
  }
 },
 "nbformat": 4,
 "nbformat_minor": 2,
 "cells": [
  {
   "cell_type": "code",
   "execution_count": 19,
   "metadata": {},
   "outputs": [],
   "source": [
    "import pandas as pd\n",
    "import numpy as np\n",
    "import yfinance as yf"
   ]
  },
  {
   "cell_type": "code",
   "execution_count": 20,
   "metadata": {},
   "outputs": [],
   "source": [
    "pfizer=yf.Ticker(\"PFE\")"
   ]
  },
  {
   "cell_type": "code",
   "execution_count": 21,
   "metadata": {},
   "outputs": [
    {
     "output_type": "execute_result",
     "data": {
      "text/plain": [
       "                 Open       High        Low      Close    Volume  Dividends  \\\n",
       "Date                                                                          \n",
       "2019-01-02  37.898083  38.232064  37.476210  38.012341  26430300        0.0   \n",
       "2019-01-03  38.003556  38.091445  36.869775  36.948875  28503500        0.0   \n",
       "2019-01-04  37.300441  38.100237  37.142237  37.792622  27145300        0.0   \n",
       "2019-01-07  37.854143  38.337539  37.669574  37.994766  20995500        0.0   \n",
       "2019-01-08  38.284805  38.407851  37.924455  38.170547  19677200        0.0   \n",
       "...               ...        ...        ...        ...       ...        ...   \n",
       "2019-12-24  35.850504  35.950771  35.732004  35.814041   5187700        0.0   \n",
       "2019-12-26  35.823154  36.069269  35.732002  35.896080   9384100        0.0   \n",
       "2019-12-27  35.941655  36.114848  35.777581  35.841389  10117700        0.0   \n",
       "2019-12-30  35.823151  35.932536  35.449426  35.467655  11554300        0.0   \n",
       "2019-12-31  35.358276  35.732001  35.285354  35.713772  15175700        0.0   \n",
       "\n",
       "            Stock Splits  \n",
       "Date                      \n",
       "2019-01-02             0  \n",
       "2019-01-03             0  \n",
       "2019-01-04             0  \n",
       "2019-01-07             0  \n",
       "2019-01-08             0  \n",
       "...                  ...  \n",
       "2019-12-24             0  \n",
       "2019-12-26             0  \n",
       "2019-12-27             0  \n",
       "2019-12-30             0  \n",
       "2019-12-31             0  \n",
       "\n",
       "[252 rows x 7 columns]"
      ],
      "text/html": "<div>\n<style scoped>\n    .dataframe tbody tr th:only-of-type {\n        vertical-align: middle;\n    }\n\n    .dataframe tbody tr th {\n        vertical-align: top;\n    }\n\n    .dataframe thead th {\n        text-align: right;\n    }\n</style>\n<table border=\"1\" class=\"dataframe\">\n  <thead>\n    <tr style=\"text-align: right;\">\n      <th></th>\n      <th>Open</th>\n      <th>High</th>\n      <th>Low</th>\n      <th>Close</th>\n      <th>Volume</th>\n      <th>Dividends</th>\n      <th>Stock Splits</th>\n    </tr>\n    <tr>\n      <th>Date</th>\n      <th></th>\n      <th></th>\n      <th></th>\n      <th></th>\n      <th></th>\n      <th></th>\n      <th></th>\n    </tr>\n  </thead>\n  <tbody>\n    <tr>\n      <th>2019-01-02</th>\n      <td>37.898083</td>\n      <td>38.232064</td>\n      <td>37.476210</td>\n      <td>38.012341</td>\n      <td>26430300</td>\n      <td>0.0</td>\n      <td>0</td>\n    </tr>\n    <tr>\n      <th>2019-01-03</th>\n      <td>38.003556</td>\n      <td>38.091445</td>\n      <td>36.869775</td>\n      <td>36.948875</td>\n      <td>28503500</td>\n      <td>0.0</td>\n      <td>0</td>\n    </tr>\n    <tr>\n      <th>2019-01-04</th>\n      <td>37.300441</td>\n      <td>38.100237</td>\n      <td>37.142237</td>\n      <td>37.792622</td>\n      <td>27145300</td>\n      <td>0.0</td>\n      <td>0</td>\n    </tr>\n    <tr>\n      <th>2019-01-07</th>\n      <td>37.854143</td>\n      <td>38.337539</td>\n      <td>37.669574</td>\n      <td>37.994766</td>\n      <td>20995500</td>\n      <td>0.0</td>\n      <td>0</td>\n    </tr>\n    <tr>\n      <th>2019-01-08</th>\n      <td>38.284805</td>\n      <td>38.407851</td>\n      <td>37.924455</td>\n      <td>38.170547</td>\n      <td>19677200</td>\n      <td>0.0</td>\n      <td>0</td>\n    </tr>\n    <tr>\n      <th>...</th>\n      <td>...</td>\n      <td>...</td>\n      <td>...</td>\n      <td>...</td>\n      <td>...</td>\n      <td>...</td>\n      <td>...</td>\n    </tr>\n    <tr>\n      <th>2019-12-24</th>\n      <td>35.850504</td>\n      <td>35.950771</td>\n      <td>35.732004</td>\n      <td>35.814041</td>\n      <td>5187700</td>\n      <td>0.0</td>\n      <td>0</td>\n    </tr>\n    <tr>\n      <th>2019-12-26</th>\n      <td>35.823154</td>\n      <td>36.069269</td>\n      <td>35.732002</td>\n      <td>35.896080</td>\n      <td>9384100</td>\n      <td>0.0</td>\n      <td>0</td>\n    </tr>\n    <tr>\n      <th>2019-12-27</th>\n      <td>35.941655</td>\n      <td>36.114848</td>\n      <td>35.777581</td>\n      <td>35.841389</td>\n      <td>10117700</td>\n      <td>0.0</td>\n      <td>0</td>\n    </tr>\n    <tr>\n      <th>2019-12-30</th>\n      <td>35.823151</td>\n      <td>35.932536</td>\n      <td>35.449426</td>\n      <td>35.467655</td>\n      <td>11554300</td>\n      <td>0.0</td>\n      <td>0</td>\n    </tr>\n    <tr>\n      <th>2019-12-31</th>\n      <td>35.358276</td>\n      <td>35.732001</td>\n      <td>35.285354</td>\n      <td>35.713772</td>\n      <td>15175700</td>\n      <td>0.0</td>\n      <td>0</td>\n    </tr>\n  </tbody>\n</table>\n<p>252 rows × 7 columns</p>\n</div>"
     },
     "metadata": {},
     "execution_count": 21
    }
   ],
   "source": [
    "df_pfizer=pfizer.history(start=\"2019-01-02\", end=\"2020-01-02\")\n",
    "df_pfizer.dropna(inplace=True)\n",
    "pfizer.history(start=\"2019-01-02\", end=\"2020-01-02\")"
   ]
  },
  {
   "cell_type": "code",
   "execution_count": null,
   "metadata": {},
   "outputs": [],
   "source": [
    "df_pfizer"
   ]
  },
  {
   "cell_type": "code",
   "execution_count": 28,
   "metadata": {},
   "outputs": [
    {
     "output_type": "execute_result",
     "data": {
      "text/plain": [
       "                 Open       High        Low      Close    Volume  Dividends  \\\n",
       "Date                                                                          \n",
       "2019-01-02  37.898083  38.232064  37.476210  38.012341  26430300        0.0   \n",
       "2019-01-03  38.003556  38.091445  36.869775  36.948875  28503500        0.0   \n",
       "2019-01-04  37.300441  38.100237  37.142237  37.792622  27145300        0.0   \n",
       "2019-01-07  37.854143  38.337539  37.669574  37.994766  20995500        0.0   \n",
       "2019-01-08  38.284805  38.407851  37.924455  38.170547  19677200        0.0   \n",
       "...               ...        ...        ...        ...       ...        ...   \n",
       "2019-12-23  35.932541  36.023692  35.668196  35.841389  17454300        0.0   \n",
       "2019-12-24  35.850504  35.950771  35.732004  35.814041   5187700        0.0   \n",
       "2019-12-26  35.823154  36.069269  35.732002  35.896080   9384100        0.0   \n",
       "2019-12-27  35.941655  36.114848  35.777581  35.841389  10117700        0.0   \n",
       "2019-12-30  35.823151  35.932536  35.449426  35.467655  11554300        0.0   \n",
       "\n",
       "            Stock Splits  Prediction  \n",
       "Date                                  \n",
       "2019-01-02             0   38.012341  \n",
       "2019-01-03             0   36.948875  \n",
       "2019-01-04             0   37.792622  \n",
       "2019-01-07             0   37.994766  \n",
       "2019-01-08             0   38.170547  \n",
       "...                  ...         ...  \n",
       "2019-12-23             0   35.841389  \n",
       "2019-12-24             0   35.814041  \n",
       "2019-12-26             0   35.896080  \n",
       "2019-12-27             0   35.841389  \n",
       "2019-12-30             0   35.467655  \n",
       "\n",
       "[251 rows x 8 columns]"
      ],
      "text/html": "<div>\n<style scoped>\n    .dataframe tbody tr th:only-of-type {\n        vertical-align: middle;\n    }\n\n    .dataframe tbody tr th {\n        vertical-align: top;\n    }\n\n    .dataframe thead th {\n        text-align: right;\n    }\n</style>\n<table border=\"1\" class=\"dataframe\">\n  <thead>\n    <tr style=\"text-align: right;\">\n      <th></th>\n      <th>Open</th>\n      <th>High</th>\n      <th>Low</th>\n      <th>Close</th>\n      <th>Volume</th>\n      <th>Dividends</th>\n      <th>Stock Splits</th>\n      <th>Prediction</th>\n    </tr>\n    <tr>\n      <th>Date</th>\n      <th></th>\n      <th></th>\n      <th></th>\n      <th></th>\n      <th></th>\n      <th></th>\n      <th></th>\n      <th></th>\n    </tr>\n  </thead>\n  <tbody>\n    <tr>\n      <th>2019-01-02</th>\n      <td>37.898083</td>\n      <td>38.232064</td>\n      <td>37.476210</td>\n      <td>38.012341</td>\n      <td>26430300</td>\n      <td>0.0</td>\n      <td>0</td>\n      <td>38.012341</td>\n    </tr>\n    <tr>\n      <th>2019-01-03</th>\n      <td>38.003556</td>\n      <td>38.091445</td>\n      <td>36.869775</td>\n      <td>36.948875</td>\n      <td>28503500</td>\n      <td>0.0</td>\n      <td>0</td>\n      <td>36.948875</td>\n    </tr>\n    <tr>\n      <th>2019-01-04</th>\n      <td>37.300441</td>\n      <td>38.100237</td>\n      <td>37.142237</td>\n      <td>37.792622</td>\n      <td>27145300</td>\n      <td>0.0</td>\n      <td>0</td>\n      <td>37.792622</td>\n    </tr>\n    <tr>\n      <th>2019-01-07</th>\n      <td>37.854143</td>\n      <td>38.337539</td>\n      <td>37.669574</td>\n      <td>37.994766</td>\n      <td>20995500</td>\n      <td>0.0</td>\n      <td>0</td>\n      <td>37.994766</td>\n    </tr>\n    <tr>\n      <th>2019-01-08</th>\n      <td>38.284805</td>\n      <td>38.407851</td>\n      <td>37.924455</td>\n      <td>38.170547</td>\n      <td>19677200</td>\n      <td>0.0</td>\n      <td>0</td>\n      <td>38.170547</td>\n    </tr>\n    <tr>\n      <th>...</th>\n      <td>...</td>\n      <td>...</td>\n      <td>...</td>\n      <td>...</td>\n      <td>...</td>\n      <td>...</td>\n      <td>...</td>\n      <td>...</td>\n    </tr>\n    <tr>\n      <th>2019-12-23</th>\n      <td>35.932541</td>\n      <td>36.023692</td>\n      <td>35.668196</td>\n      <td>35.841389</td>\n      <td>17454300</td>\n      <td>0.0</td>\n      <td>0</td>\n      <td>35.841389</td>\n    </tr>\n    <tr>\n      <th>2019-12-24</th>\n      <td>35.850504</td>\n      <td>35.950771</td>\n      <td>35.732004</td>\n      <td>35.814041</td>\n      <td>5187700</td>\n      <td>0.0</td>\n      <td>0</td>\n      <td>35.814041</td>\n    </tr>\n    <tr>\n      <th>2019-12-26</th>\n      <td>35.823154</td>\n      <td>36.069269</td>\n      <td>35.732002</td>\n      <td>35.896080</td>\n      <td>9384100</td>\n      <td>0.0</td>\n      <td>0</td>\n      <td>35.896080</td>\n    </tr>\n    <tr>\n      <th>2019-12-27</th>\n      <td>35.941655</td>\n      <td>36.114848</td>\n      <td>35.777581</td>\n      <td>35.841389</td>\n      <td>10117700</td>\n      <td>0.0</td>\n      <td>0</td>\n      <td>35.841389</td>\n    </tr>\n    <tr>\n      <th>2019-12-30</th>\n      <td>35.823151</td>\n      <td>35.932536</td>\n      <td>35.449426</td>\n      <td>35.467655</td>\n      <td>11554300</td>\n      <td>0.0</td>\n      <td>0</td>\n      <td>35.467655</td>\n    </tr>\n  </tbody>\n</table>\n<p>251 rows × 8 columns</p>\n</div>"
     },
     "metadata": {},
     "execution_count": 28
    }
   ],
   "source": [
    "df_pfizer['Prediction']=df_pfizer['Close']\n",
    "df_pfizer"
   ]
  },
  {
   "cell_type": "code",
   "execution_count": 23,
   "metadata": {},
   "outputs": [
    {
     "output_type": "execute_result",
     "data": {
      "text/plain": [
       "                 Open       High        Low      Close    Volume  Dividends  \\\n",
       "Date                                                                          \n",
       "2019-01-02  37.898083  38.232064  37.476210  38.012341  26430300        0.0   \n",
       "2019-01-03  38.003556  38.091445  36.869775  36.948875  28503500        0.0   \n",
       "2019-01-04  37.300441  38.100237  37.142237  37.792622  27145300        0.0   \n",
       "2019-01-07  37.854143  38.337539  37.669574  37.994766  20995500        0.0   \n",
       "2019-01-08  38.284805  38.407851  37.924455  38.170547  19677200        0.0   \n",
       "...               ...        ...        ...        ...       ...        ...   \n",
       "2019-12-23  35.932541  36.023692  35.668196  35.841389  17454300        0.0   \n",
       "2019-12-24  35.850504  35.950771  35.732004  35.814041   5187700        0.0   \n",
       "2019-12-26  35.823154  36.069269  35.732002  35.896080   9384100        0.0   \n",
       "2019-12-27  35.941655  36.114848  35.777581  35.841389  10117700        0.0   \n",
       "2019-12-30  35.823151  35.932536  35.449426  35.467655  11554300        0.0   \n",
       "\n",
       "            Stock Splits  Prediction  \n",
       "Date                                  \n",
       "2019-01-02             0   36.948875  \n",
       "2019-01-03             0   37.792622  \n",
       "2019-01-04             0   37.994766  \n",
       "2019-01-07             0   38.170547  \n",
       "2019-01-08             0   38.091450  \n",
       "...                  ...         ...  \n",
       "2019-12-23             0   35.814041  \n",
       "2019-12-24             0   35.896080  \n",
       "2019-12-26             0   35.841389  \n",
       "2019-12-27             0   35.467655  \n",
       "2019-12-30             0   35.713772  \n",
       "\n",
       "[251 rows x 8 columns]"
      ],
      "text/html": "<div>\n<style scoped>\n    .dataframe tbody tr th:only-of-type {\n        vertical-align: middle;\n    }\n\n    .dataframe tbody tr th {\n        vertical-align: top;\n    }\n\n    .dataframe thead th {\n        text-align: right;\n    }\n</style>\n<table border=\"1\" class=\"dataframe\">\n  <thead>\n    <tr style=\"text-align: right;\">\n      <th></th>\n      <th>Open</th>\n      <th>High</th>\n      <th>Low</th>\n      <th>Close</th>\n      <th>Volume</th>\n      <th>Dividends</th>\n      <th>Stock Splits</th>\n      <th>Prediction</th>\n    </tr>\n    <tr>\n      <th>Date</th>\n      <th></th>\n      <th></th>\n      <th></th>\n      <th></th>\n      <th></th>\n      <th></th>\n      <th></th>\n      <th></th>\n    </tr>\n  </thead>\n  <tbody>\n    <tr>\n      <th>2019-01-02</th>\n      <td>37.898083</td>\n      <td>38.232064</td>\n      <td>37.476210</td>\n      <td>38.012341</td>\n      <td>26430300</td>\n      <td>0.0</td>\n      <td>0</td>\n      <td>36.948875</td>\n    </tr>\n    <tr>\n      <th>2019-01-03</th>\n      <td>38.003556</td>\n      <td>38.091445</td>\n      <td>36.869775</td>\n      <td>36.948875</td>\n      <td>28503500</td>\n      <td>0.0</td>\n      <td>0</td>\n      <td>37.792622</td>\n    </tr>\n    <tr>\n      <th>2019-01-04</th>\n      <td>37.300441</td>\n      <td>38.100237</td>\n      <td>37.142237</td>\n      <td>37.792622</td>\n      <td>27145300</td>\n      <td>0.0</td>\n      <td>0</td>\n      <td>37.994766</td>\n    </tr>\n    <tr>\n      <th>2019-01-07</th>\n      <td>37.854143</td>\n      <td>38.337539</td>\n      <td>37.669574</td>\n      <td>37.994766</td>\n      <td>20995500</td>\n      <td>0.0</td>\n      <td>0</td>\n      <td>38.170547</td>\n    </tr>\n    <tr>\n      <th>2019-01-08</th>\n      <td>38.284805</td>\n      <td>38.407851</td>\n      <td>37.924455</td>\n      <td>38.170547</td>\n      <td>19677200</td>\n      <td>0.0</td>\n      <td>0</td>\n      <td>38.091450</td>\n    </tr>\n    <tr>\n      <th>...</th>\n      <td>...</td>\n      <td>...</td>\n      <td>...</td>\n      <td>...</td>\n      <td>...</td>\n      <td>...</td>\n      <td>...</td>\n      <td>...</td>\n    </tr>\n    <tr>\n      <th>2019-12-23</th>\n      <td>35.932541</td>\n      <td>36.023692</td>\n      <td>35.668196</td>\n      <td>35.841389</td>\n      <td>17454300</td>\n      <td>0.0</td>\n      <td>0</td>\n      <td>35.814041</td>\n    </tr>\n    <tr>\n      <th>2019-12-24</th>\n      <td>35.850504</td>\n      <td>35.950771</td>\n      <td>35.732004</td>\n      <td>35.814041</td>\n      <td>5187700</td>\n      <td>0.0</td>\n      <td>0</td>\n      <td>35.896080</td>\n    </tr>\n    <tr>\n      <th>2019-12-26</th>\n      <td>35.823154</td>\n      <td>36.069269</td>\n      <td>35.732002</td>\n      <td>35.896080</td>\n      <td>9384100</td>\n      <td>0.0</td>\n      <td>0</td>\n      <td>35.841389</td>\n    </tr>\n    <tr>\n      <th>2019-12-27</th>\n      <td>35.941655</td>\n      <td>36.114848</td>\n      <td>35.777581</td>\n      <td>35.841389</td>\n      <td>10117700</td>\n      <td>0.0</td>\n      <td>0</td>\n      <td>35.467655</td>\n    </tr>\n    <tr>\n      <th>2019-12-30</th>\n      <td>35.823151</td>\n      <td>35.932536</td>\n      <td>35.449426</td>\n      <td>35.467655</td>\n      <td>11554300</td>\n      <td>0.0</td>\n      <td>0</td>\n      <td>35.713772</td>\n    </tr>\n  </tbody>\n</table>\n<p>251 rows × 8 columns</p>\n</div>"
     },
     "metadata": {},
     "execution_count": 23
    }
   ],
   "source": [
    "df_pfizer.dropna(inplace=True)\n",
    "df_pfizer"
   ]
  },
  {
   "cell_type": "code",
   "execution_count": 29,
   "metadata": {},
   "outputs": [],
   "source": [
    "X = np.array(df_pfizer.drop(['Prediction'], axis=1))\n",
    "y = np.array(df_pfizer['Prediction'])"
   ]
  },
  {
   "cell_type": "code",
   "execution_count": 30,
   "metadata": {},
   "outputs": [],
   "source": [
    "from sklearn.model_selection import train_test_split\n",
    "X_train, X_test, y_train, y_test = train_test_split(X, y, test_size=0.5, random_state=42069)"
   ]
  },
  {
   "cell_type": "code",
   "execution_count": 31,
   "metadata": {},
   "outputs": [],
   "source": [
    "from sklearn.pipeline import make_pipeline\n",
    "from sklearn.preprocessing import StandardScaler\n",
    "from sklearn.ensemble import RandomForestRegressor\n",
    "pipeline_lr=make_pipeline(StandardScaler(),RandomForestRegressor(n_estimators=100))\n"
   ]
  },
  {
   "cell_type": "code",
   "execution_count": null,
   "metadata": {},
   "outputs": [],
   "source": [
    "from sklearn.model_selection import GridSearchCV\n",
    "hyperparameters = { 'randomforestregressor__max_features' : ['auto', 'sqrt', 'log2'],'randomforestregressor__max_depth': [None, 5, 3, 1]}\n",
    "clf_lr=GridSearchCV(pipeline_lr,cv=10,param_grid=hyperparameters)"
   ]
  },
  {
   "cell_type": "code",
   "execution_count": 32,
   "metadata": {},
   "outputs": [
    {
     "output_type": "execute_result",
     "data": {
      "text/plain": [
       "0.9960096794776373"
      ]
     },
     "metadata": {},
     "execution_count": 32
    }
   ],
   "source": [
    "clf_lr.fit(X_train,y_train)\n",
    "clf_lr.best_score_   #displays the score of model"
   ]
  },
  {
   "cell_type": "code",
   "execution_count": null,
   "metadata": {},
   "outputs": [],
   "source": [
    "#clf_lr is now a valid model"
   ]
  },
  {
   "cell_type": "code",
   "execution_count": null,
   "metadata": {},
   "outputs": [],
   "source": []
  }
 ]
}