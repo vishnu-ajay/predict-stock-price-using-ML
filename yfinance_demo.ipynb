{
 "metadata": {
  "language_info": {
   "codemirror_mode": {
    "name": "ipython",
    "version": 3
   },
   "file_extension": ".py",
   "mimetype": "text/x-python",
   "name": "python",
   "nbconvert_exporter": "python",
   "pygments_lexer": "ipython3",
   "version": "3.7.6-final"
  },
  "orig_nbformat": 2,
  "kernelspec": {
   "name": "python3",
   "display_name": "Python 3",
   "language": "python"
  }
 },
 "nbformat": 4,
 "nbformat_minor": 2,
 "cells": [
  {
   "cell_type": "code",
   "execution_count": 2,
   "metadata": {},
   "outputs": [],
   "source": [
    "import pandas as pd\n",
    "import numpy as np\n",
    "import yfinance as yf"
   ]
  },
  {
   "cell_type": "code",
   "execution_count": 3,
   "metadata": {},
   "outputs": [],
   "source": [
    "pfizer=yf.Ticker(\"PFE\")"
   ]
  },
  {
   "cell_type": "code",
   "execution_count": 8,
   "metadata": {},
   "outputs": [
    {
     "output_type": "execute_result",
     "data": {
      "text/plain": [
       "{'zip': '10017',\n",
       " 'sector': 'Healthcare',\n",
       " 'fullTimeEmployees': 88300,\n",
       " 'longBusinessSummary': 'Pfizer Inc. develops, manufactures, and sells healthcare products worldwide. It offers medicines and vaccines in various therapeutic areas, including cardiovascular metabolic and pain under the Eliquis, Chantix/Champix, and Premarin family brands; biologics, small molecules, immunotherapies, and biosimilars under the Ibrance, Sutent, Xtandi, Xalkori, Inlyta, Braftovi + Mektovi brands; and sterile injectable and anti-infective medicines under the Sulperazon, Medrol, Vfend, and Zithromax brands. The company also provides medicines and vaccines in various therapeutic areas, such as pneumococcal disease, meningococcal disease, and tick-borne encephalitis under the Prevnar 13/Prevenar 13 (pediatric/adult), FSME-IMMUN, Nimenrix, and Trumenba brands; biosimilars for chronic immune and inflammatory diseases under the Xeljanz, Enbrel, Inflectra, and Eucrisa brands; and amyloidosis, hemophilia, and endocrine diseases under the Vyndaqel/Vyndamax, BeneFIX, Genotropin, and Refacto AF/Xyntha brands. In addition, the company is involved in the contract manufacturing business. It serves wholesalers, retailers, hospitals, clinics, government agencies, pharmacies, and individual provider offices, as well as disease control and prevention centers. The company has collaboration agreements with Bristol-Myers Squibb Company, Astellas Pharma US, Inc., and Myovant Sciences Ltd.; a licensing agreement with Akcea Therapeutics, Inc; a strategic alliance with Verily Life Sciences LLC; collaboration agreements with Merck KGaA and Valneva SE; a clinical trial collaboration and supply agreement with IDEAYA Biosciences, Inc.; collaboration agreement with BioNTech SE; a clinical supply collaboration with Jiangsu Alphamab Biopharmaceuticals Co., Ltd; a research collaboration and license agreement with BioInvent International AB; a drug discovery collaboration with Sosei Group Corporation; and collaboration with LianBio. Pfizer Inc. was founded in 1849 and is headquartered in New York, New York.',\n",
       " 'city': 'New York',\n",
       " 'phone': '212 733 2323',\n",
       " 'state': 'NY',\n",
       " 'country': 'United States',\n",
       " 'companyOfficers': [],\n",
       " 'website': 'http://www.pfizer.com',\n",
       " 'maxAge': 1,\n",
       " 'address1': '235 East 42nd Street',\n",
       " 'industry': 'Drug Manufacturers—General',\n",
       " 'previousClose': 37.06,\n",
       " 'regularMarketOpen': 37.16,\n",
       " 'twoHundredDayAverage': 35.691288,\n",
       " 'trailingAnnualDividendYield': 0.040474903,\n",
       " 'payoutRatio': 0.96769994,\n",
       " 'volume24Hr': None,\n",
       " 'regularMarketDayHigh': 37.525,\n",
       " 'navPrice': None,\n",
       " 'averageDailyVolume10Day': 30755871,\n",
       " 'totalAssets': None,\n",
       " 'regularMarketPreviousClose': 37.06,\n",
       " 'fiftyDayAverage': 38.297577,\n",
       " 'trailingAnnualDividendRate': 1.5,\n",
       " 'open': 37.16,\n",
       " 'toCurrency': None,\n",
       " 'averageVolume10days': 30755871,\n",
       " 'expireDate': None,\n",
       " 'yield': None,\n",
       " 'algorithm': None,\n",
       " 'dividendRate': 1.56,\n",
       " 'exDividendDate': 1611792000,\n",
       " 'beta': 0.638655,\n",
       " 'circulatingSupply': None,\n",
       " 'startDate': None,\n",
       " 'regularMarketDayLow': 36.9,\n",
       " 'priceHint': 2,\n",
       " 'currency': 'USD',\n",
       " 'trailingPE': 24.141743,\n",
       " 'regularMarketVolume': 32661943,\n",
       " 'lastMarket': None,\n",
       " 'maxSupply': None,\n",
       " 'openInterest': None,\n",
       " 'marketCap': 206383398912,\n",
       " 'volumeAllCurrencies': None,\n",
       " 'strikePrice': None,\n",
       " 'averageVolume': 45001720,\n",
       " 'priceToSalesTrailing12Months': 4.242295,\n",
       " 'dayLow': 36.9,\n",
       " 'ask': 37.09,\n",
       " 'ytdReturn': None,\n",
       " 'askSize': 4000,\n",
       " 'volume': 32661943,\n",
       " 'fiftyTwoWeekHigh': 43.08,\n",
       " 'forwardPE': 12.094463,\n",
       " 'fromCurrency': None,\n",
       " 'fiveYearAvgDividendYield': 3.64,\n",
       " 'fiftyTwoWeekLow': 26.451612,\n",
       " 'bid': 37.08,\n",
       " 'tradeable': False,\n",
       " 'dividendYield': 0.042,\n",
       " 'bidSize': 1800,\n",
       " 'dayHigh': 37.525,\n",
       " 'exchange': 'NYQ',\n",
       " 'shortName': 'Pfizer, Inc.',\n",
       " 'longName': 'Pfizer Inc.',\n",
       " 'exchangeTimezoneName': 'America/New_York',\n",
       " 'exchangeTimezoneShortName': 'EST',\n",
       " 'isEsgPopulated': False,\n",
       " 'gmtOffSetMilliseconds': '-18000000',\n",
       " 'quoteType': 'EQUITY',\n",
       " 'symbol': 'PFE',\n",
       " 'messageBoardId': 'finmb_162270',\n",
       " 'market': 'us_market',\n",
       " 'annualHoldingsTurnover': None,\n",
       " 'enterpriseToRevenue': 5.329,\n",
       " 'beta3Year': None,\n",
       " 'profitMargins': 0.17854,\n",
       " 'enterpriseToEbitda': 13.419,\n",
       " '52WeekChange': -0.0069773793,\n",
       " 'morningStarRiskRating': None,\n",
       " 'forwardEps': 3.07,\n",
       " 'revenueQuarterlyGrowth': None,\n",
       " 'sharesOutstanding': 5558400000,\n",
       " 'fundInceptionDate': None,\n",
       " 'annualReportExpenseRatio': None,\n",
       " 'bookValue': 11.744,\n",
       " 'sharesShort': 63138417,\n",
       " 'sharesPercentSharesOut': 0.0114,\n",
       " 'fundFamily': None,\n",
       " 'lastFiscalYearEnd': 1577750400,\n",
       " 'heldPercentInstitutions': 0.6990400000000001,\n",
       " 'netIncomeToCommon': 8686000128,\n",
       " 'trailingEps': 1.538,\n",
       " 'lastDividendValue': 0.36053,\n",
       " 'SandP52WeekChange': 0.16317785,\n",
       " 'priceToBook': 3.1616144,\n",
       " 'heldPercentInsiders': 0.00046,\n",
       " 'nextFiscalYearEnd': 1640908800,\n",
       " 'mostRecentQuarter': 1601164800,\n",
       " 'shortRatio': 1.06,\n",
       " 'sharesShortPreviousMonthDate': 1605225600,\n",
       " 'floatShares': 5549280829,\n",
       " 'enterpriseValue': 259252273152,\n",
       " 'threeYearAverageReturn': None,\n",
       " 'lastSplitDate': 1605571200,\n",
       " 'lastSplitFactor': '1054:1000',\n",
       " 'legalType': None,\n",
       " 'lastDividendDate': 1604534400,\n",
       " 'morningStarOverallRating': None,\n",
       " 'earningsQuarterlyGrowth': -0.714,\n",
       " 'dateShortInterest': 1607990400,\n",
       " 'pegRatio': -13,\n",
       " 'lastCapGain': None,\n",
       " 'shortPercentOfFloat': 0.0114,\n",
       " 'sharesShortPriorMonth': 66532665,\n",
       " 'impliedSharesOutstanding': None,\n",
       " 'category': None,\n",
       " 'fiveYearAverageReturn': None,\n",
       " 'regularMarketPrice': 37.16,\n",
       " 'logo_url': 'https://logo.clearbit.com/pfizer.com'}"
      ]
     },
     "metadata": {},
     "execution_count": 8
    }
   ],
   "source": [
    "pfizer.info"
   ]
  },
  {
   "cell_type": "code",
   "execution_count": 8,
   "metadata": {},
   "outputs": [
    {
     "output_type": "execute_result",
     "data": {
      "text/plain": [
       "                 Open       High        Low      Close    Volume  Dividends  \\\n",
       "Date                                                                          \n",
       "2019-01-02  37.898083  38.232064  37.476210  38.012341  26430300        0.0   \n",
       "2019-01-03  38.003556  38.091445  36.869775  36.948875  28503500        0.0   \n",
       "2019-01-04  37.300441  38.100237  37.142237  37.792622  27145300        0.0   \n",
       "2019-01-07  37.854143  38.337539  37.669574  37.994766  20995500        0.0   \n",
       "2019-01-08  38.284805  38.407851  37.924455  38.170547  19677200        0.0   \n",
       "...               ...        ...        ...        ...       ...        ...   \n",
       "2019-12-24  35.850504  35.950771  35.732004  35.814041   5187700        0.0   \n",
       "2019-12-26  35.823154  36.069269  35.732002  35.896080   9384100        0.0   \n",
       "2019-12-27  35.941655  36.114848  35.777581  35.841389  10117700        0.0   \n",
       "2019-12-30  35.823151  35.932536  35.449426  35.467655  11554300        0.0   \n",
       "2019-12-31  35.358276  35.732001  35.285354  35.713772  15175700        0.0   \n",
       "\n",
       "            Stock Splits  \n",
       "Date                      \n",
       "2019-01-02             0  \n",
       "2019-01-03             0  \n",
       "2019-01-04             0  \n",
       "2019-01-07             0  \n",
       "2019-01-08             0  \n",
       "...                  ...  \n",
       "2019-12-24             0  \n",
       "2019-12-26             0  \n",
       "2019-12-27             0  \n",
       "2019-12-30             0  \n",
       "2019-12-31             0  \n",
       "\n",
       "[252 rows x 7 columns]"
      ],
      "text/html": "<div>\n<style scoped>\n    .dataframe tbody tr th:only-of-type {\n        vertical-align: middle;\n    }\n\n    .dataframe tbody tr th {\n        vertical-align: top;\n    }\n\n    .dataframe thead th {\n        text-align: right;\n    }\n</style>\n<table border=\"1\" class=\"dataframe\">\n  <thead>\n    <tr style=\"text-align: right;\">\n      <th></th>\n      <th>Open</th>\n      <th>High</th>\n      <th>Low</th>\n      <th>Close</th>\n      <th>Volume</th>\n      <th>Dividends</th>\n      <th>Stock Splits</th>\n    </tr>\n    <tr>\n      <th>Date</th>\n      <th></th>\n      <th></th>\n      <th></th>\n      <th></th>\n      <th></th>\n      <th></th>\n      <th></th>\n    </tr>\n  </thead>\n  <tbody>\n    <tr>\n      <th>2019-01-02</th>\n      <td>37.898083</td>\n      <td>38.232064</td>\n      <td>37.476210</td>\n      <td>38.012341</td>\n      <td>26430300</td>\n      <td>0.0</td>\n      <td>0</td>\n    </tr>\n    <tr>\n      <th>2019-01-03</th>\n      <td>38.003556</td>\n      <td>38.091445</td>\n      <td>36.869775</td>\n      <td>36.948875</td>\n      <td>28503500</td>\n      <td>0.0</td>\n      <td>0</td>\n    </tr>\n    <tr>\n      <th>2019-01-04</th>\n      <td>37.300441</td>\n      <td>38.100237</td>\n      <td>37.142237</td>\n      <td>37.792622</td>\n      <td>27145300</td>\n      <td>0.0</td>\n      <td>0</td>\n    </tr>\n    <tr>\n      <th>2019-01-07</th>\n      <td>37.854143</td>\n      <td>38.337539</td>\n      <td>37.669574</td>\n      <td>37.994766</td>\n      <td>20995500</td>\n      <td>0.0</td>\n      <td>0</td>\n    </tr>\n    <tr>\n      <th>2019-01-08</th>\n      <td>38.284805</td>\n      <td>38.407851</td>\n      <td>37.924455</td>\n      <td>38.170547</td>\n      <td>19677200</td>\n      <td>0.0</td>\n      <td>0</td>\n    </tr>\n    <tr>\n      <th>...</th>\n      <td>...</td>\n      <td>...</td>\n      <td>...</td>\n      <td>...</td>\n      <td>...</td>\n      <td>...</td>\n      <td>...</td>\n    </tr>\n    <tr>\n      <th>2019-12-24</th>\n      <td>35.850504</td>\n      <td>35.950771</td>\n      <td>35.732004</td>\n      <td>35.814041</td>\n      <td>5187700</td>\n      <td>0.0</td>\n      <td>0</td>\n    </tr>\n    <tr>\n      <th>2019-12-26</th>\n      <td>35.823154</td>\n      <td>36.069269</td>\n      <td>35.732002</td>\n      <td>35.896080</td>\n      <td>9384100</td>\n      <td>0.0</td>\n      <td>0</td>\n    </tr>\n    <tr>\n      <th>2019-12-27</th>\n      <td>35.941655</td>\n      <td>36.114848</td>\n      <td>35.777581</td>\n      <td>35.841389</td>\n      <td>10117700</td>\n      <td>0.0</td>\n      <td>0</td>\n    </tr>\n    <tr>\n      <th>2019-12-30</th>\n      <td>35.823151</td>\n      <td>35.932536</td>\n      <td>35.449426</td>\n      <td>35.467655</td>\n      <td>11554300</td>\n      <td>0.0</td>\n      <td>0</td>\n    </tr>\n    <tr>\n      <th>2019-12-31</th>\n      <td>35.358276</td>\n      <td>35.732001</td>\n      <td>35.285354</td>\n      <td>35.713772</td>\n      <td>15175700</td>\n      <td>0.0</td>\n      <td>0</td>\n    </tr>\n  </tbody>\n</table>\n<p>252 rows × 7 columns</p>\n</div>"
     },
     "metadata": {},
     "execution_count": 8
    }
   ],
   "source": [
    "df_pfizer=pfizer.history(start=\"2019-01-02\", end=\"2020-01-02\")\n",
    "df_pfizer.dropna(inplace=True)\n",
    "pfizer.history(start=\"2019-01-02\", end=\"2020-01-02\")\n"
   ]
  },
  {
   "cell_type": "code",
   "execution_count": 9,
   "metadata": {},
   "outputs": [],
   "source": []
  },
  {
   "cell_type": "code",
   "execution_count": 10,
   "metadata": {},
   "outputs": [
    {
     "output_type": "execute_result",
     "data": {
      "text/plain": [
       "                 Open       High        Low      Close    Volume  Dividends  \\\n",
       "Date                                                                          \n",
       "2019-01-02  37.898083  38.232064  37.476210  38.012341  26430300        0.0   \n",
       "2019-01-03  38.003556  38.091445  36.869775  36.948875  28503500        0.0   \n",
       "2019-01-04  37.300441  38.100237  37.142237  37.792622  27145300        0.0   \n",
       "2019-01-07  37.854143  38.337539  37.669574  37.994766  20995500        0.0   \n",
       "2019-01-08  38.284805  38.407851  37.924455  38.170547  19677200        0.0   \n",
       "...               ...        ...        ...        ...       ...        ...   \n",
       "2019-12-24  35.850504  35.950771  35.732004  35.814041   5187700        0.0   \n",
       "2019-12-26  35.823154  36.069269  35.732002  35.896080   9384100        0.0   \n",
       "2019-12-27  35.941655  36.114848  35.777581  35.841389  10117700        0.0   \n",
       "2019-12-30  35.823151  35.932536  35.449426  35.467655  11554300        0.0   \n",
       "2019-12-31  35.358276  35.732001  35.285354  35.713772  15175700        0.0   \n",
       "\n",
       "            Stock Splits  Prediction  \n",
       "Date                                  \n",
       "2019-01-02             0   38.012341  \n",
       "2019-01-03             0   36.948875  \n",
       "2019-01-04             0   37.792622  \n",
       "2019-01-07             0   37.994766  \n",
       "2019-01-08             0   38.170547  \n",
       "...                  ...         ...  \n",
       "2019-12-24             0   35.814041  \n",
       "2019-12-26             0   35.896080  \n",
       "2019-12-27             0   35.841389  \n",
       "2019-12-30             0   35.467655  \n",
       "2019-12-31             0   35.713772  \n",
       "\n",
       "[252 rows x 8 columns]"
      ],
      "text/html": "<div>\n<style scoped>\n    .dataframe tbody tr th:only-of-type {\n        vertical-align: middle;\n    }\n\n    .dataframe tbody tr th {\n        vertical-align: top;\n    }\n\n    .dataframe thead th {\n        text-align: right;\n    }\n</style>\n<table border=\"1\" class=\"dataframe\">\n  <thead>\n    <tr style=\"text-align: right;\">\n      <th></th>\n      <th>Open</th>\n      <th>High</th>\n      <th>Low</th>\n      <th>Close</th>\n      <th>Volume</th>\n      <th>Dividends</th>\n      <th>Stock Splits</th>\n      <th>Prediction</th>\n    </tr>\n    <tr>\n      <th>Date</th>\n      <th></th>\n      <th></th>\n      <th></th>\n      <th></th>\n      <th></th>\n      <th></th>\n      <th></th>\n      <th></th>\n    </tr>\n  </thead>\n  <tbody>\n    <tr>\n      <th>2019-01-02</th>\n      <td>37.898083</td>\n      <td>38.232064</td>\n      <td>37.476210</td>\n      <td>38.012341</td>\n      <td>26430300</td>\n      <td>0.0</td>\n      <td>0</td>\n      <td>38.012341</td>\n    </tr>\n    <tr>\n      <th>2019-01-03</th>\n      <td>38.003556</td>\n      <td>38.091445</td>\n      <td>36.869775</td>\n      <td>36.948875</td>\n      <td>28503500</td>\n      <td>0.0</td>\n      <td>0</td>\n      <td>36.948875</td>\n    </tr>\n    <tr>\n      <th>2019-01-04</th>\n      <td>37.300441</td>\n      <td>38.100237</td>\n      <td>37.142237</td>\n      <td>37.792622</td>\n      <td>27145300</td>\n      <td>0.0</td>\n      <td>0</td>\n      <td>37.792622</td>\n    </tr>\n    <tr>\n      <th>2019-01-07</th>\n      <td>37.854143</td>\n      <td>38.337539</td>\n      <td>37.669574</td>\n      <td>37.994766</td>\n      <td>20995500</td>\n      <td>0.0</td>\n      <td>0</td>\n      <td>37.994766</td>\n    </tr>\n    <tr>\n      <th>2019-01-08</th>\n      <td>38.284805</td>\n      <td>38.407851</td>\n      <td>37.924455</td>\n      <td>38.170547</td>\n      <td>19677200</td>\n      <td>0.0</td>\n      <td>0</td>\n      <td>38.170547</td>\n    </tr>\n    <tr>\n      <th>...</th>\n      <td>...</td>\n      <td>...</td>\n      <td>...</td>\n      <td>...</td>\n      <td>...</td>\n      <td>...</td>\n      <td>...</td>\n      <td>...</td>\n    </tr>\n    <tr>\n      <th>2019-12-24</th>\n      <td>35.850504</td>\n      <td>35.950771</td>\n      <td>35.732004</td>\n      <td>35.814041</td>\n      <td>5187700</td>\n      <td>0.0</td>\n      <td>0</td>\n      <td>35.814041</td>\n    </tr>\n    <tr>\n      <th>2019-12-26</th>\n      <td>35.823154</td>\n      <td>36.069269</td>\n      <td>35.732002</td>\n      <td>35.896080</td>\n      <td>9384100</td>\n      <td>0.0</td>\n      <td>0</td>\n      <td>35.896080</td>\n    </tr>\n    <tr>\n      <th>2019-12-27</th>\n      <td>35.941655</td>\n      <td>36.114848</td>\n      <td>35.777581</td>\n      <td>35.841389</td>\n      <td>10117700</td>\n      <td>0.0</td>\n      <td>0</td>\n      <td>35.841389</td>\n    </tr>\n    <tr>\n      <th>2019-12-30</th>\n      <td>35.823151</td>\n      <td>35.932536</td>\n      <td>35.449426</td>\n      <td>35.467655</td>\n      <td>11554300</td>\n      <td>0.0</td>\n      <td>0</td>\n      <td>35.467655</td>\n    </tr>\n    <tr>\n      <th>2019-12-31</th>\n      <td>35.358276</td>\n      <td>35.732001</td>\n      <td>35.285354</td>\n      <td>35.713772</td>\n      <td>15175700</td>\n      <td>0.0</td>\n      <td>0</td>\n      <td>35.713772</td>\n    </tr>\n  </tbody>\n</table>\n<p>252 rows × 8 columns</p>\n</div>"
     },
     "metadata": {},
     "execution_count": 10
    }
   ],
   "source": [
    "df_pfizer"
   ]
  },
  {
   "cell_type": "code",
   "execution_count": 11,
   "metadata": {},
   "outputs": [
    {
     "output_type": "execute_result",
     "data": {
      "text/plain": [
       "                 Open       High        Low      Close    Volume  Dividends  \\\n",
       "Date                                                                          \n",
       "2019-01-02  37.898083  38.232064  37.476210  38.012341  26430300        0.0   \n",
       "2019-01-03  38.003556  38.091445  36.869775  36.948875  28503500        0.0   \n",
       "2019-01-04  37.300441  38.100237  37.142237  37.792622  27145300        0.0   \n",
       "2019-01-07  37.854143  38.337539  37.669574  37.994766  20995500        0.0   \n",
       "2019-01-08  38.284805  38.407851  37.924455  38.170547  19677200        0.0   \n",
       "...               ...        ...        ...        ...       ...        ...   \n",
       "2019-12-24  35.850504  35.950771  35.732004  35.814041   5187700        0.0   \n",
       "2019-12-26  35.823154  36.069269  35.732002  35.896080   9384100        0.0   \n",
       "2019-12-27  35.941655  36.114848  35.777581  35.841389  10117700        0.0   \n",
       "2019-12-30  35.823151  35.932536  35.449426  35.467655  11554300        0.0   \n",
       "2019-12-31  35.358276  35.732001  35.285354  35.713772  15175700        0.0   \n",
       "\n",
       "            Stock Splits  Prediction  \n",
       "Date                                  \n",
       "2019-01-02             0   36.948875  \n",
       "2019-01-03             0   37.792622  \n",
       "2019-01-04             0   37.994766  \n",
       "2019-01-07             0   38.170547  \n",
       "2019-01-08             0   38.091450  \n",
       "...                  ...         ...  \n",
       "2019-12-24             0   35.896080  \n",
       "2019-12-26             0   35.841389  \n",
       "2019-12-27             0   35.467655  \n",
       "2019-12-30             0   35.713772  \n",
       "2019-12-31             0         NaN  \n",
       "\n",
       "[252 rows x 8 columns]"
      ],
      "text/html": "<div>\n<style scoped>\n    .dataframe tbody tr th:only-of-type {\n        vertical-align: middle;\n    }\n\n    .dataframe tbody tr th {\n        vertical-align: top;\n    }\n\n    .dataframe thead th {\n        text-align: right;\n    }\n</style>\n<table border=\"1\" class=\"dataframe\">\n  <thead>\n    <tr style=\"text-align: right;\">\n      <th></th>\n      <th>Open</th>\n      <th>High</th>\n      <th>Low</th>\n      <th>Close</th>\n      <th>Volume</th>\n      <th>Dividends</th>\n      <th>Stock Splits</th>\n      <th>Prediction</th>\n    </tr>\n    <tr>\n      <th>Date</th>\n      <th></th>\n      <th></th>\n      <th></th>\n      <th></th>\n      <th></th>\n      <th></th>\n      <th></th>\n      <th></th>\n    </tr>\n  </thead>\n  <tbody>\n    <tr>\n      <th>2019-01-02</th>\n      <td>37.898083</td>\n      <td>38.232064</td>\n      <td>37.476210</td>\n      <td>38.012341</td>\n      <td>26430300</td>\n      <td>0.0</td>\n      <td>0</td>\n      <td>36.948875</td>\n    </tr>\n    <tr>\n      <th>2019-01-03</th>\n      <td>38.003556</td>\n      <td>38.091445</td>\n      <td>36.869775</td>\n      <td>36.948875</td>\n      <td>28503500</td>\n      <td>0.0</td>\n      <td>0</td>\n      <td>37.792622</td>\n    </tr>\n    <tr>\n      <th>2019-01-04</th>\n      <td>37.300441</td>\n      <td>38.100237</td>\n      <td>37.142237</td>\n      <td>37.792622</td>\n      <td>27145300</td>\n      <td>0.0</td>\n      <td>0</td>\n      <td>37.994766</td>\n    </tr>\n    <tr>\n      <th>2019-01-07</th>\n      <td>37.854143</td>\n      <td>38.337539</td>\n      <td>37.669574</td>\n      <td>37.994766</td>\n      <td>20995500</td>\n      <td>0.0</td>\n      <td>0</td>\n      <td>38.170547</td>\n    </tr>\n    <tr>\n      <th>2019-01-08</th>\n      <td>38.284805</td>\n      <td>38.407851</td>\n      <td>37.924455</td>\n      <td>38.170547</td>\n      <td>19677200</td>\n      <td>0.0</td>\n      <td>0</td>\n      <td>38.091450</td>\n    </tr>\n    <tr>\n      <th>...</th>\n      <td>...</td>\n      <td>...</td>\n      <td>...</td>\n      <td>...</td>\n      <td>...</td>\n      <td>...</td>\n      <td>...</td>\n      <td>...</td>\n    </tr>\n    <tr>\n      <th>2019-12-24</th>\n      <td>35.850504</td>\n      <td>35.950771</td>\n      <td>35.732004</td>\n      <td>35.814041</td>\n      <td>5187700</td>\n      <td>0.0</td>\n      <td>0</td>\n      <td>35.896080</td>\n    </tr>\n    <tr>\n      <th>2019-12-26</th>\n      <td>35.823154</td>\n      <td>36.069269</td>\n      <td>35.732002</td>\n      <td>35.896080</td>\n      <td>9384100</td>\n      <td>0.0</td>\n      <td>0</td>\n      <td>35.841389</td>\n    </tr>\n    <tr>\n      <th>2019-12-27</th>\n      <td>35.941655</td>\n      <td>36.114848</td>\n      <td>35.777581</td>\n      <td>35.841389</td>\n      <td>10117700</td>\n      <td>0.0</td>\n      <td>0</td>\n      <td>35.467655</td>\n    </tr>\n    <tr>\n      <th>2019-12-30</th>\n      <td>35.823151</td>\n      <td>35.932536</td>\n      <td>35.449426</td>\n      <td>35.467655</td>\n      <td>11554300</td>\n      <td>0.0</td>\n      <td>0</td>\n      <td>35.713772</td>\n    </tr>\n    <tr>\n      <th>2019-12-31</th>\n      <td>35.358276</td>\n      <td>35.732001</td>\n      <td>35.285354</td>\n      <td>35.713772</td>\n      <td>15175700</td>\n      <td>0.0</td>\n      <td>0</td>\n      <td>NaN</td>\n    </tr>\n  </tbody>\n</table>\n<p>252 rows × 8 columns</p>\n</div>"
     },
     "metadata": {},
     "execution_count": 11
    }
   ],
   "source": [
    "df_pfizer['Prediction']=df_pfizer['Close'].shift(-1)\n",
    "df_pfizer"
   ]
  },
  {
   "cell_type": "code",
   "execution_count": 12,
   "metadata": {},
   "outputs": [],
   "source": [
    "df_pfizer.dropna(inplace=True)"
   ]
  },
  {
   "cell_type": "code",
   "execution_count": 16,
   "metadata": {},
   "outputs": [],
   "source": [
    "X = np.array(df_pfizer.drop(['Prediction'], axis=1))\n",
    "y = np.array(df_pfizer['Prediction'])"
   ]
  },
  {
   "cell_type": "code",
   "execution_count": 17,
   "metadata": {},
   "outputs": [],
   "source": [
    "from sklearn.model_selection import train_test_split\n",
    "X_train, X_test, y_train, y_test = train_test_split(X, y, test_size=0.5, random_state=42069,startify=y)"
   ]
  },
  {
   "cell_type": "code",
   "execution_count": 21,
   "metadata": {},
   "outputs": [],
   "source": [
    "from sklearn.pipeline import make_pipeline\n",
    "from sklearn.preprocessing import StandardScaler\n",
    "from sklearn.ensemble import RandomForestRegressor\n",
    "pipeline_lr=make_pipeline(StandardScaler(),RandomForestRegressor(n_estimators=100))\n"
   ]
  },
  {
   "cell_type": "code",
   "execution_count": 22,
   "metadata": {},
   "outputs": [],
   "source": [
    "from sklearn.model_selection import GridSearchCV\n",
    "hyperparameters = { 'randomforestregressor__max_features' : ['auto', 'sqrt', 'log2'],'randomforestregressor__max_depth': [None, 5, 3, 1]}\n",
    "clf_lr=GridSearchCV(pipeline_lr,cv=10,param_grid=hyperparameters)"
   ]
  },
  {
   "cell_type": "code",
   "execution_count": 23,
   "metadata": {},
   "outputs": [
    {
     "output_type": "execute_result",
     "data": {
      "text/plain": [
       "GridSearchCV(cv=10, error_score=nan,\n",
       "             estimator=Pipeline(memory=None,\n",
       "                                steps=[('standardscaler',\n",
       "                                        StandardScaler(copy=True,\n",
       "                                                       with_mean=True,\n",
       "                                                       with_std=True)),\n",
       "                                       ('randomforestregressor',\n",
       "                                        RandomForestRegressor(bootstrap=True,\n",
       "                                                              ccp_alpha=0.0,\n",
       "                                                              criterion='mse',\n",
       "                                                              max_depth=None,\n",
       "                                                              max_features='auto',\n",
       "                                                              max_leaf_nodes=None,\n",
       "                                                              max_samples=None,\n",
       "                                                              min_impurity_decrease=0.0,\n",
       "                                                              min_impurity_...\n",
       "                                                              min_weight_fraction_leaf=0.0,\n",
       "                                                              n_estimators=100,\n",
       "                                                              n_jobs=None,\n",
       "                                                              oob_score=False,\n",
       "                                                              random_state=None,\n",
       "                                                              verbose=0,\n",
       "                                                              warm_start=False))],\n",
       "                                verbose=False),\n",
       "             iid='deprecated', n_jobs=None,\n",
       "             param_grid={'randomforestregressor__max_depth': [None, 5, 3, 1],\n",
       "                         'randomforestregressor__max_features': ['auto', 'sqrt',\n",
       "                                                                 'log2']},\n",
       "             pre_dispatch='2*n_jobs', refit=True, return_train_score=False,\n",
       "             scoring=None, verbose=0)"
      ]
     },
     "metadata": {},
     "execution_count": 23
    }
   ],
   "source": [
    "clf_lr.fit(X_train,y_train)"
   ]
  },
  {
   "cell_type": "code",
   "execution_count": 24,
   "metadata": {},
   "outputs": [
    {
     "output_type": "error",
     "ename": "TypeError",
     "evalue": "'GridSearchCV' object is not callable",
     "traceback": [
      "\u001b[0;31m---------------------------------------------------------------------------\u001b[0m",
      "\u001b[0;31mTypeError\u001b[0m                                 Traceback (most recent call last)",
      "\u001b[0;32m<ipython-input-24-c61a28f34dcc>\u001b[0m in \u001b[0;36m<module>\u001b[0;34m\u001b[0m\n\u001b[0;32m----> 1\u001b[0;31m \u001b[0my_prediction\u001b[0m\u001b[0;34m=\u001b[0m\u001b[0mclf_lr\u001b[0m\u001b[0;34m(\u001b[0m\u001b[0mX_test\u001b[0m\u001b[0;34m)\u001b[0m\u001b[0;34m\u001b[0m\u001b[0;34m\u001b[0m\u001b[0m\n\u001b[0m\u001b[1;32m      2\u001b[0m \u001b[0;32mfrom\u001b[0m \u001b[0msklearn\u001b[0m\u001b[0;34m.\u001b[0m\u001b[0mmetrics\u001b[0m \u001b[0;32mimport\u001b[0m \u001b[0mr2_score\u001b[0m\u001b[0;34m\u001b[0m\u001b[0;34m\u001b[0m\u001b[0m\n\u001b[1;32m      3\u001b[0m \u001b[0mprint\u001b[0m\u001b[0;34m(\u001b[0m\u001b[0mr2_score\u001b[0m\u001b[0;34m(\u001b[0m\u001b[0my_test\u001b[0m\u001b[0;34m,\u001b[0m\u001b[0my_prediction\u001b[0m\u001b[0;34m)\u001b[0m\u001b[0;34m)\u001b[0m\u001b[0;34m\u001b[0m\u001b[0;34m\u001b[0m\u001b[0m\n",
      "\u001b[0;31mTypeError\u001b[0m: 'GridSearchCV' object is not callable"
     ]
    }
   ],
   "source": [
    "y_prediction=clf_lr(GrX_test)\n",
    "from sklearn.metrics import r2_score\n",
    "print(r2_score(y_test,y_prediction))"
   ]
  },
  {
   "cell_type": "code",
   "execution_count": null,
   "metadata": {},
   "outputs": [],
   "source": []
  }
 ]
}