{
 "metadata": {
  "language_info": {
   "codemirror_mode": {
    "name": "ipython",
    "version": 3
   },
   "file_extension": ".py",
   "mimetype": "text/x-python",
   "name": "python",
   "nbconvert_exporter": "python",
   "pygments_lexer": "ipython3",
   "version": "3.7.6-final"
  },
  "orig_nbformat": 2,
  "kernelspec": {
   "name": "python3",
   "display_name": "Python 3",
   "language": "python"
  }
 },
 "nbformat": 4,
 "nbformat_minor": 2,
 "cells": [
  {
   "cell_type": "code",
   "execution_count": 25,
   "metadata": {},
   "outputs": [],
   "source": [
    "import pandas as pd\n",
    "import numpy as np\n",
    "import yfinance as yf\n",
    "from sklearn.model_selection import train_test_split\n",
    "from sklearn.pipeline import make_pipeline\n",
    "from sklearn.preprocessing import StandardScaler\n",
    "from sklearn.model_selection import GridSearchCV\n",
    "from sklearn.svm import SVR"
   ]
  },
  {
   "cell_type": "code",
   "execution_count": 26,
   "metadata": {},
   "outputs": [],
   "source": [
    "pfizer=yf.Ticker(\"PFE\")\n",
    "df_pfizer=pfizer.history(start=\"2019-01-02\", end=\"2020-01-02\")\n",
    "df_pfizer.dropna(inplace=True)\n",
    "pfizer.history(start=\"2019-01-02\", end=\"2020-01-02\")\n",
    "df_pfizer['Prediction']=df_pfizer['Close']\n",
    "df_pfizer.dropna(inplace=True)\n",
    "X = np.array(df_pfizer.drop(['Prediction'], axis=1))\n",
    "y = np.array(df_pfizer['Prediction'])\n",
    "X_train, X_test, y_train, y_test = train_test_split(X, y, test_size=0.3, random_state=42069)"
   ]
  },
  {
   "cell_type": "code",
   "execution_count": 28,
   "metadata": {},
   "outputs": [
    {
     "output_type": "execute_result",
     "data": {
      "text/plain": [
       "GridSearchCV(cv=10, error_score=nan,\n",
       "             estimator=Pipeline(memory=None,\n",
       "                                steps=[('standardscaler',\n",
       "                                        StandardScaler(copy=True,\n",
       "                                                       with_mean=True,\n",
       "                                                       with_std=True)),\n",
       "                                       ('svr',\n",
       "                                        SVR(C=1.0, cache_size=200, coef0=0.0,\n",
       "                                            degree=3, epsilon=0.1,\n",
       "                                            gamma='scale', kernel='rbf',\n",
       "                                            max_iter=-1, shrinking=True,\n",
       "                                            tol=0.001, verbose=False))],\n",
       "                                verbose=False),\n",
       "             iid='deprecated', n_jobs=None,\n",
       "             param_grid={'svr__C': [0.1, 1, 10, 100, 1000],\n",
       "                         'svr__gamma': [1, 0.1, 0.01, 0.001, 0.0001],\n",
       "                         'svr__kernel': ['rbf']},\n",
       "             pre_dispatch='2*n_jobs', refit=True, return_train_score=False,\n",
       "             scoring=None, verbose=0)"
      ]
     },
     "metadata": {},
     "execution_count": 28
    }
   ],
   "source": [
    "param_grid = {'svr__C': [0.1, 1, 10, 100, 1000],'svr__gamma': [1, 0.1, 0.01, 0.001, 0.0001],'svr__kernel':['rbf']}\n",
    "pipeline_svc=make_pipeline(StandardScaler(),SVR())\n",
    "clf_svc=GridSearchCV(pipeline_svc,cv=10,param_grid=param_grid)\n",
    "clf_svc.fit(X_train,y_train)"
   ]
  },
  {
   "cell_type": "code",
   "execution_count": 30,
   "metadata": {},
   "outputs": [
    {
     "output_type": "execute_result",
     "data": {
      "text/plain": [
       "0.9992574709918305"
      ]
     },
     "metadata": {},
     "execution_count": 30
    }
   ],
   "source": [
    "clf_svc.best_score_"
   ]
  },
  {
   "cell_type": "code",
   "execution_count": null,
   "metadata": {},
   "outputs": [],
   "source": []
  }
 ]
}